{
  "cells": [
    {
      "cell_type": "markdown",
      "metadata": {
        "id": "lL3PaxwuTYOF"
      },
      "source": [
        "# Tarefa 01\n",
        "\n",
        "- Leia os enunciados com atenção\n",
        "- Saiba que pode haver mais de uma resposta correta\n",
        "- Insira novas células de código sempre que achar necessário\n",
        "- Em caso de dúvidas, procure os tutores\n",
        "- Divirta-se :)"
      ]
    },
    {
      "cell_type": "markdown",
      "metadata": {
        "id": "8vGeVyEnTYOS"
      },
      "source": [
        "### 01 - Teste de gravidez\n",
        "Escreva uma célula com controle de fluxos que tem como premissa a existência das seguintes variáveis:\n",
        "\n",
        "- ```sexo``` como ```str``` indicando os valores '**M**' para masculino e '**F**' para feminino  \n",
        "- ```beta_hcg``` que indica a quantidade do beta-HCG no sangue em mUI/mL.\n",
        "\n",
        "A sua tarefa é escrever um código que imprima como resultado \"indivíduo do sexo masculino\" quando sexo = 'M', caso sexo = 'F', se o valor de beta-HCG for maior que 5, retorne \"Positivo\" indicando que a paciente está grávida, e retorne \"Negativo\" caso contrário.\n",
        "\n",
        "Não mexa nos valores da variável ```sexo``` nem em ```beta_hcg```, e escreva um código que funcione para quaisquer valores possíveis de ambos: ```sexo``` = '**M**' ou '**F**' e ```beta_hcg``` assumindo valores inteiros positivos."
      ]
    },
    {
      "cell_type": "code",
      "execution_count": 8,
      "metadata": {
        "colab": {
          "base_uri": "https://localhost:8080/"
        },
        "id": "tway-ab7TYOV",
        "outputId": "33b8e4ea-7790-4d2a-c0f5-f6b38de8484f"
      },
      "outputs": [
        {
          "output_type": "stream",
          "name": "stdout",
          "text": [
            "Qual é seu sexo (M ou F)F\n",
            "Qual é seu beta_hcg2\n",
            "Negativo\n"
          ]
        }
      ],
      "source": [
        "sexo = str(input('Qual é seu sexo (M ou F)'))\n",
        "beta_hcg = int(input('Qual é seu beta_hcg'))\n",
        "\n",
        "# seu código vem abaixo desta linha\n",
        "if sexo == 'M':\n",
        "  print('Individuo do sexo masculino')\n",
        "elif beta_hcg > 5:\n",
        "  print('Positivo')\n",
        "else:\n",
        "  print('Negativo')\n",
        "\n",
        "\n"
      ]
    },
    {
      "cell_type": "markdown",
      "metadata": {
        "id": "SQMmnXukTYOZ"
      },
      "source": [
        "### 02 - Renomeando variáveis\n",
        "\n",
        "Vamos ver adiante que uma forma de renomear variáveis de um conjunto de dados é através de dicionários - o dicionário deve conter como chave o nome original, associando a cada chave um único valor (tipo *str*) que contenha o nome novo.\n",
        "\n",
        "A sua tarefa é escrever um dicionário que possa ser utilizado para traduzir as variáveis ```name``` (nome), ```age``` (idade) e ```income``` (renda). Ou seja, esse dicionário deve relacionar as chaves *name, age* e *income* às suas respectivas traduções."
      ]
    },
    {
      "cell_type": "code",
      "execution_count": 9,
      "metadata": {
        "colab": {
          "base_uri": "https://localhost:8080/"
        },
        "id": "m9MBbFMzTYOa",
        "outputId": "127771bf-7b04-4f1f-9ed9-65ab26b66fed"
      },
      "outputs": [
        {
          "output_type": "execute_result",
          "data": {
            "text/plain": [
              "{'Name': 'nome', 'age': 'idade', 'income': 'renda'}"
            ]
          },
          "metadata": {},
          "execution_count": 9
        }
      ],
      "source": [
        "dic_renomeacao = {'Name': 'nome', 'age': 'idade', 'income': 'renda'}\n",
        "dic_renomeacao"
      ]
    },
    {
      "cell_type": "markdown",
      "metadata": {
        "id": "Rpv76WrSTYOg"
      },
      "source": [
        "### 03 - É divisível?\n",
        "A sua tarefa é escrever um código que indique se um número ```N``` é divisível por um número P. Escreva um programa que faça essa verificação para quaisquer combinações de ```N``` e ```M``` e devolva uma mensagem indicativa no output."
      ]
    },
    {
      "cell_type": "code",
      "execution_count": 11,
      "metadata": {
        "colab": {
          "base_uri": "https://localhost:8080/"
        },
        "id": "5yJdbetITYOh",
        "outputId": "858ef72c-fa79-4f83-9c9f-92d06bb2368b"
      },
      "outputs": [
        {
          "output_type": "stream",
          "name": "stdout",
          "text": [
            "divisivel\n"
          ]
        }
      ],
      "source": [
        "N = 42\n",
        "M = 7\n",
        "\n",
        "P = N % M # % retorna o valor da divisão\n",
        "\n",
        "if P == 0:\n",
        "  print('divisivel')\n",
        "else:\n",
        "  print('não divisivel')\n"
      ]
    },
    {
      "cell_type": "markdown",
      "metadata": {
        "id": "MELlZu3BTYOi"
      },
      "source": [
        "### 04 - Números primos\n",
        "> Um número **N** é primo se e somente se é divisível por 1, -1, por **N** e por -**N**.  \n",
        "\n",
        "Escreva um script que verifica se ```N``` é um número primo, verificando se ```N``` é divisível por todos os números de ```1``` a ```N-1```. Você vai precisar usar alguma ferramenta de *loop* que você aprendeu para isto. No final, devolva uma mensagem no output indicando se o número é primo ou não."
      ]
    },
    {
      "cell_type": "code",
      "execution_count": null,
      "metadata": {
        "colab": {
          "base_uri": "https://localhost:8080/"
        },
        "id": "-cYdVtltTYOj",
        "outputId": "b9b9f804-31f4-473d-cda5-ba9108956167"
      },
      "outputs": [
        {
          "output_type": "stream",
          "name": "stdout",
          "text": [
            "Digite um número inteiro positivo: 1\n",
            "1 não é um número primo.\n"
          ]
        }
      ],
      "source": [
        "#N = 47\n",
        "\n",
        "def is_prime(N):\n",
        "    # Um número menor que 2 não é primo\n",
        "    if N < 2:\n",
        "        return False\n",
        "\n",
        "    # Verifica a divisibilidade de 2 até N-1\n",
        "    for i in range(2, N):\n",
        "        if N % i == 0:\n",
        "            return False\n",
        "\n",
        "    return True\n",
        "\n",
        "# Solicita entrada do usuário\n",
        "N = int(input(\"Digite um número inteiro positivo: \"))\n",
        "\n",
        "# Verifica se N é primo\n",
        "if is_prime(N):\n",
        "    print(f\"{N} é um número primo.\")\n",
        "else:\n",
        "    print(f\"{N} não é um número primo.\")\n"
      ]
    },
    {
      "cell_type": "markdown",
      "metadata": {
        "id": "pWCDoQmpTYOk"
      },
      "source": [
        "### 05 - Desafio\n",
        "O algorítmo do exercício anterior não é o mais eficiente. O que você pode fazer para deixá-lo mais eficiente? Ou seja, executar menos comparações, portanto consumir menos tempo.\n",
        "1. Será que precisamos correr o loop até o final sempre?\n",
        "2. Será que precisamos mesmo verificar **todos** os números?\n",
        "3. Será que precisamos ir até N-1?\n",
        "\n",
        "Essas perguntas levam ao tipo de pensamento voltado a deixar um algoritmo mais eficiente. Veja se você consegue melhorar o seu."
      ]
    },
    {
      "cell_type": "code",
      "execution_count": 13,
      "metadata": {
        "colab": {
          "base_uri": "https://localhost:8080/"
        },
        "id": "RFKvMXRvTYOl",
        "outputId": "d066f180-61c8-4fcd-9768-eba99d32c6a5"
      },
      "outputs": [
        {
          "output_type": "stream",
          "name": "stdout",
          "text": [
            "Digite um número inteiro positivo: 5\n",
            "5 é um número primo.\n"
          ]
        }
      ],
      "source": [
        "def is_prime(N):\n",
        "    # Um número menor que 2 não é primo\n",
        "    if N < 2:\n",
        "        return False\n",
        "\n",
        "\n",
        "    # 2 é um número primo\n",
        "    if N == 2:\n",
        "        return True\n",
        "\n",
        "\n",
        "    # Se N é par, não é primo (exceto 2)\n",
        "    if N % 2 == 0:\n",
        "        return False\n",
        "\n",
        "\n",
        "    # Calcula manualmente a raiz quadrada de N\n",
        "    sqrt_N = int(N ** 0.5) + 1\n",
        "\n",
        "\n",
        "    # Verifica a divisibilidade de 3 até a raiz quadrada de N\n",
        "    # e pula os números pares\n",
        "    for i in range(3, sqrt_N, 2):\n",
        "        if N % i == 0:\n",
        "            return False\n",
        "\n",
        "\n",
        "    return True\n",
        "\n",
        "\n",
        "# Solicita entrada do usuário\n",
        "N = int(input(\"Digite um número inteiro positivo: \"))\n",
        "\n",
        "\n",
        "# Verifica se N é primo\n",
        "if is_prime(N):\n",
        "    print(f\"{N} é um número primo.\")\n",
        "else:\n",
        "    print(f\"{N} não é um número primo.\")\n"
      ]
    },
    {
      "cell_type": "markdown",
      "metadata": {
        "id": "0xX7arDOTYOm"
      },
      "source": [
        "### 06 - Peso ideal 1\n",
        "O IMC (índice de massa corpórea) é um indicador de saúde mais bem aceito que o peso. Ele é calculado como:\n",
        "\n",
        "$$ IMC = \\dfrac{peso}{altura^2}$$\n",
        "\n",
        "Segundo a OMS, valores *normais* são entre 18.5 e 24.9.\n",
        "\n",
        "Sua tarefa é encontrar o ponto médio dessa faixa."
      ]
    },
    {
      "cell_type": "code",
      "execution_count": 14,
      "metadata": {
        "colab": {
          "base_uri": "https://localhost:8080/"
        },
        "id": "bwz-DUxfTYOm",
        "outputId": "a5336b16-05eb-4675-ac86-0bc507f09498"
      },
      "outputs": [
        {
          "output_type": "stream",
          "name": "stdout",
          "text": [
            "Digite o seu peso em quilogramas: 78000\n",
            "Digite a sua altura em metros: 170\n",
            "Muito abaixo do peso\n",
            "Seu IMC é: 2.70\n"
          ]
        }
      ],
      "source": [
        "def calcular_imc(peso_kg, altura_m):\n",
        "\n",
        "    imc = peso_kg / (altura_m ** 2)\n",
        "\n",
        "    if imc < 17:\n",
        "      print('Muito abaixo do peso')\n",
        "    elif imc < 18.5:\n",
        "      print('Abaixo do peso')\n",
        "    elif imc < 25:\n",
        "      print('Peso normal')\n",
        "    else:\n",
        "        print('acima do peso')\n",
        "    return imc\n",
        "\n",
        "# Solicita entrada do usuário\n",
        "peso = float(input(\"Digite o seu peso em quilogramas: \"))\n",
        "altura = float(input(\"Digite a sua altura em metros: \"))\n",
        "\n",
        "# Calcula o IMC\n",
        "resultado_imc = calcular_imc(peso, altura)\n",
        "\n",
        "# Exibe o resultado\n",
        "print(f\"Seu IMC é: {resultado_imc:.2f}\")\n"
      ]
    },
    {
      "cell_type": "markdown",
      "metadata": {
        "id": "saxQiGUHTYOn"
      },
      "source": [
        "### 07 - Peso ideal 2\n",
        "Recebendo um valor de altura, encontre o peso '*ideal*' dessa pessoa, que fornece o IMC encontrado acima"
      ]
    },
    {
      "cell_type": "code",
      "execution_count": 19,
      "metadata": {
        "colab": {
          "base_uri": "https://localhost:8080/"
        },
        "id": "xerajBYOTYOo",
        "outputId": "2152eeda-f0de-4247-ffe9-b151c90d0be3"
      },
      "outputs": [
        {
          "output_type": "stream",
          "name": "stdout",
          "text": [
            "Digite sua altura: 170\n",
            "Com base no seu IMC inserido 2.70) seu peso e de 78000.00 kg.\n"
          ]
        }
      ],
      "source": [
        "def calcula_peso_ideal(imc_atual, altura_m):\n",
        "\n",
        "   peso_ideal = imc_atual * (altura_m ** 2)\n",
        "   return peso_ideal\n",
        "\n",
        "# input da altura\n",
        "altura =  float(input(\"Digite sua altura: \"))\n",
        "\n",
        "# input da taxa imc\n",
        "atual_imc = resultado_imc\n",
        "\n",
        "# Calculate the ideal do peso\n",
        "resultado_peso_ideal = calcula_peso_ideal(atual_imc, altura)\n",
        "\n",
        "# Display the result\n",
        "print(f\"Com base no seu IMC inserido {atual_imc:.2f}) seu peso e de {resultado_peso_ideal:.2f} kg.\")\n",
        "\n",
        "\n"
      ]
    },
    {
      "cell_type": "markdown",
      "metadata": {
        "id": "GrF0hCiBTYOp"
      },
      "source": [
        "### 08 - Peso ideal 3\n",
        "Dada uma lista contendo as alturas de pacientes, crie uma nova lista que contenha o peso '*ideal*' (que fornece o IMC calculado em **Peso ideal 1**) desses pacientes."
      ]
    },
    {
      "cell_type": "code",
      "execution_count": null,
      "metadata": {
        "colab": {
          "base_uri": "https://localhost:8080/"
        },
        "id": "nklKH3jWTYOq",
        "outputId": "a81035f2-6341-4f2c-f2c9-06a33732f750"
      },
      "outputs": [
        {
          "output_type": "stream",
          "name": "stdout",
          "text": [
            "Lista de pesos ideais:\n",
            "Altura 1.95 m: Peso ideal 82.51 kg\n",
            "Altura 2.05 m: Peso ideal 91.19 kg\n",
            "Altura 1.70 m: Peso ideal 62.71 kg\n",
            "Altura 1.65 m: Peso ideal 59.08 kg\n"
          ]
        }
      ],
      "source": [
        "def calcular_peso_ideal(altura_m):\n",
        "\n",
        "    imc_alvo = 21.7\n",
        "    peso_ideal = imc_alvo * (altura_m ** 2)\n",
        "    return peso_ideal\n",
        "\n",
        "# Lista de alturas dos pacientes\n",
        "lista_alturas = [1.95, 2.05, 1.70, 1.65]\n",
        "\n",
        "# Calcula o peso ideal para cada altura\n",
        "lista_pesos_ideais = [calcular_peso_ideal(altura) for altura in lista_alturas]\n",
        "\n",
        "# Exibe a lista de pesos ideais\n",
        "print(\"Lista de pesos ideais:\")\n",
        "for i, peso_ideal in enumerate(lista_pesos_ideais):\n",
        "    print(f\"Altura {lista_alturas[i]:.2f} m: Peso ideal {peso_ideal:.2f} kg\")\n",
        "\n"
      ]
    },
    {
      "cell_type": "markdown",
      "metadata": {
        "id": "4Svug7ilTYOr"
      },
      "source": [
        "### 09 - Peso ideal 4\n",
        "Dada uma lista de tuplas - cada elemento da lista é uma tupla contendo altura e peso de um paciente - crie uma nova lista com o IMC desses pacientes."
      ]
    },
    {
      "cell_type": "code",
      "execution_count": null,
      "metadata": {
        "colab": {
          "base_uri": "https://localhost:8080/"
        },
        "id": "tg9i9tKeTYOr",
        "outputId": "606991f9-f286-45f3-bccf-24485f5eede9"
      },
      "outputs": [
        {
          "output_type": "stream",
          "name": "stdout",
          "text": [
            "Lista de IMC dos pacientes:\n",
            "Paciente 1: IMC = 27.78\n",
            "Paciente 2: IMC = 27.55\n",
            "Paciente 3: IMC = 19.19\n"
          ]
        }
      ],
      "source": [
        "altura_peso = [(1.80, 90), (1.65, 75), (1.91, 70)]\n",
        "\n",
        "def calcular_imc(peso_kg, altura_m):\n",
        "\n",
        "    imc = peso_kg / (altura_m ** 2)\n",
        "    return imc\n",
        "\n",
        "# Lista de tuplas (altura, peso)\n",
        "altura_peso = [(1.80, 90), (1.65, 75), (1.91, 70)]\n",
        "\n",
        "# Calcula o IMC para cada paciente\n",
        "lista_imc = []\n",
        "for altura, peso in altura_peso:\n",
        "    imc_paciente = calcular_imc(peso, altura)\n",
        "    lista_imc.append(imc_paciente)\n",
        "\n",
        "# Exibe a lista de IMC\n",
        "print(\"Lista de IMC dos pacientes:\")\n",
        "for i, imc in enumerate(lista_imc, start=1):\n",
        "    print(f\"Paciente {i}: IMC = {imc:.2f}\")\n",
        "\n"
      ]
    },
    {
      "cell_type": "markdown",
      "metadata": {
        "id": "jgs8aFuyTYOs"
      },
      "source": [
        "### 10 - Peso ideal 5\n",
        "Dada uma lista de **listas** - cada elemento da lista é uma **lista** contendo altura e peso de um paciente, adicione mais um elemento à lista de cada paciente contendo o IMC do paciente. Verifique também se é 'baixo', 'normal' ou 'alto' segundo os padrões da OMS em que normal é entre 18.5 e 24.9.\n",
        "\n",
        "Reflexão: por que no problema anterior temos que criar uma nova lista, e não podemos adicionar os dados de cada indivíduo à tupla?"
      ]
    },
    {
      "cell_type": "code",
      "execution_count": null,
      "metadata": {
        "colab": {
          "base_uri": "https://localhost:8080/"
        },
        "id": "WxSgyJVjTYOt",
        "outputId": "c688543d-58e2-43b4-e10e-d45872918c7f"
      },
      "outputs": [
        {
          "output_type": "stream",
          "name": "stdout",
          "text": [
            "Altura: 1.80 m, Peso: 90 kg, IMC: 27.78, Classificação: alto\n",
            "Altura: 1.65 m, Peso: 75 kg, IMC: 27.55, Classificação: alto\n",
            "Altura: 1.91 m, Peso: 70 kg, IMC: 19.19, Classificação: normal\n"
          ]
        }
      ],
      "source": [
        "altura_peso = [[1.80, 90], [1.65, 75], [1.91, 70]]\n",
        "\n",
        "def calcular_imc(peso_kg, altura_m):\n",
        "\n",
        "    imc = peso_kg / (altura_m ** 2)\n",
        "    return imc\n",
        "\n",
        "# Lista de listas contendo altura e peso de pacientes\n",
        "altura_peso = [[1.80, 90], [1.65, 75], [1.91, 70]]\n",
        "\n",
        "# Calcula o IMC para cada paciente e adiciona à lista\n",
        "for paciente in altura_peso:\n",
        "    altura, peso = paciente\n",
        "    imc = calcular_imc(peso, altura)\n",
        "    paciente.append(imc)\n",
        "\n",
        "    # Classifica o IMC de acordo com os padrões da OMS\n",
        "    if 18.5 <= imc <= 24.9:\n",
        "        paciente.append(\"normal\")\n",
        "    elif imc < 18.5:\n",
        "        paciente.append(\"baixo\")\n",
        "    else:\n",
        "        paciente.append(\"alto\")\n",
        "\n",
        "# Exibe a lista atualizada\n",
        "for paciente in altura_peso:\n",
        "    print(f\"Altura: {paciente[0]:.2f} m, Peso: {paciente[1]} kg, IMC: {paciente[2]:.2f}, Classificação: {paciente[3]}\")\n",
        "\n"
      ]
    }
  ],
  "metadata": {
    "kernelspec": {
      "display_name": "Python 3",
      "language": "python",
      "name": "python3"
    },
    "language_info": {
      "codemirror_mode": {
        "name": "ipython",
        "version": 3
      },
      "file_extension": ".py",
      "mimetype": "text/x-python",
      "name": "python",
      "nbconvert_exporter": "python",
      "pygments_lexer": "ipython3",
      "version": "3.8.5"
    },
    "colab": {
      "provenance": []
    }
  },
  "nbformat": 4,
  "nbformat_minor": 0
}